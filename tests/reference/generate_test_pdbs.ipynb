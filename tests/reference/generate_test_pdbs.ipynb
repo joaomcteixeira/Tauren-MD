{
 "cells": [
  {
   "cell_type": "code",
   "execution_count": 1,
   "metadata": {},
   "outputs": [],
   "source": [
    "import MDAnalysis as md\n",
    "from MDAnalysis.analysis import align as mdaalign"
   ]
  },
  {
   "cell_type": "code",
   "execution_count": 2,
   "metadata": {},
   "outputs": [],
   "source": [
    "trajpath = \"traj_test_PCNA.dcd\"\n",
    "toppath = \"topology_test.pdb\""
   ]
  },
  {
   "cell_type": "code",
   "execution_count": 3,
   "metadata": {},
   "outputs": [],
   "source": [
    "u = md.Universe(toppath, trajpath)"
   ]
  },
  {
   "cell_type": "code",
   "execution_count": 4,
   "metadata": {},
   "outputs": [],
   "source": [
    "pdb_samples = [\n",
    "    (\"all\", \"solvent_all_frame0.pdb\", 0),\n",
    "    (\"all\", \"solvent_all_frame49.pdb\", 49),\n",
    "    (\"protein\", \"noHOH_all_frame0.pdb\", 0),\n",
    "    (\"protein\", \"noHOH_all_frame49.pdb\", 49),\n",
    "    (\"protein and segid A\", \"noHOH_chainA_frame0.pdb\", 0),\n",
    "    (\"protein and segid A\", \"noHOH_chainA_frame49.pdb\", 49),\n",
    "]\n",
    "\n",
    "pdb_samples_aligned = [\n",
    "    (\"protein\", \"noHOH_all_aligned_frame0.pdb\", 0),\n",
    "    (\"protein\", \"noHOH_all_aligned_frame49.pdb\", 49),\n",
    "]"
   ]
  },
  {
   "cell_type": "code",
   "execution_count": 8,
   "metadata": {},
   "outputs": [],
   "source": [
    "def export_frames(pdb):\n",
    "    \n",
    "    atom_selection, filename, frame = pdb\n",
    "    \n",
    "    u.select_atoms(atom_selection).write(\n",
    "                        filename=filename,\n",
    "                        frames=[frame],\n",
    "                        file_format=\"PDB\",\n",
    "                        bonds=None,\n",
    "                        )"
   ]
  },
  {
   "cell_type": "code",
   "execution_count": 9,
   "metadata": {},
   "outputs": [],
   "source": [
    "for pdb in pdb_samples:\n",
    "    export_frames(pdb)"
   ]
  },
  {
   "cell_type": "code",
   "execution_count": 11,
   "metadata": {},
   "outputs": [
    {
     "name": "stderr",
     "output_type": "stream",
     "text": [
      "Step   100/100 [100.0%]\n"
     ]
    },
    {
     "data": {
      "text/plain": [
       "<MDAnalysis.analysis.align.AlignTraj at 0x7fe7917b2d68>"
      ]
     },
     "execution_count": 11,
     "metadata": {},
     "output_type": "execute_result"
    }
   ],
   "source": [
    "alignment = mdaalign.AlignTraj(\n",
    "            u,\n",
    "            md.Universe(toppath),\n",
    "            in_memory=True,\n",
    "            verbose=True,\n",
    "            )\n",
    "\n",
    "alignment.run()"
   ]
  },
  {
   "cell_type": "code",
   "execution_count": 12,
   "metadata": {},
   "outputs": [],
   "source": [
    "for pdb in pdb_samples_aligned:\n",
    "    export_frames(pdb)"
   ]
  },
  {
   "cell_type": "code",
   "execution_count": null,
   "metadata": {},
   "outputs": [],
   "source": []
  }
 ],
 "metadata": {
  "kernelspec": {
   "display_name": "Python 3",
   "language": "python",
   "name": "python3"
  },
  "language_info": {
   "codemirror_mode": {
    "name": "ipython",
    "version": 3
   },
   "file_extension": ".py",
   "mimetype": "text/x-python",
   "name": "python",
   "nbconvert_exporter": "python",
   "pygments_lexer": "ipython3",
   "version": "3.7.2"
  }
 },
 "nbformat": 4,
 "nbformat_minor": 2
}
